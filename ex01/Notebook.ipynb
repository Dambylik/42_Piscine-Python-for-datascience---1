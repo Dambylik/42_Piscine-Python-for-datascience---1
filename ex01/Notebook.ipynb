{
 "cells": [
  {
   "cell_type": "code",
   "execution_count": 20,
   "id": "9572c02a",
   "metadata": {},
   "outputs": [
    {
     "name": "stdout",
     "output_type": "stream",
     "text": [
      "My shape is : (4, 2)\n",
      "My new shape is : (2, 2)\n",
      "[[  1.8   78.4 ]\n",
      " [  2.15 102.7 ]]\n",
      "My shape is : (4, 2)\n",
      "My new shape is : (1, 2)\n",
      "[[  2.15 102.7 ]]\n"
     ]
    }
   ],
   "source": [
    "import numpy as np\n",
    "\n",
    "a = np.zeros(3)\n",
    "\n",
    "def slice_me(family: list, start: int, end: int) -> list:\n",
    "    new_array = np.array(family)\n",
    "    print(f\"My shape is : {new_array.shape}\")\n",
    "    truncated_array = np.array(new_array[start:end])\n",
    "    print(f\"My new shape is : {truncated_array.shape}\")\n",
    "    \n",
    "    return truncated_array\n",
    "    \n",
    "    \n",
    "\n",
    "family =   [[1.80, 78.4],\n",
    "            [2.15, 102.7],\n",
    "            [2.10, 98.5],\n",
    "            [1.88, 75.2]]\n",
    "\n",
    "print(slice_me(family, 0, 2))\n",
    "print(slice_me(family, 1, -2))"
   ]
  }
 ],
 "metadata": {
  "kernelspec": {
   "display_name": "venv310",
   "language": "python",
   "name": "python3"
  },
  "language_info": {
   "codemirror_mode": {
    "name": "ipython",
    "version": 3
   },
   "file_extension": ".py",
   "mimetype": "text/x-python",
   "name": "python",
   "nbconvert_exporter": "python",
   "pygments_lexer": "ipython3",
   "version": "3.10.18"
  }
 },
 "nbformat": 4,
 "nbformat_minor": 5
}
